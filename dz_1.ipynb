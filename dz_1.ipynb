{
 "cells": [
  {
   "cell_type": "code",
   "execution_count": 2,
   "id": "4d0471c9-691f-4d8e-8af9-091d1c8626c8",
   "metadata": {},
   "outputs": [],
   "source": [
    "import numpy as np"
   ]
  },
  {
   "cell_type": "code",
   "execution_count": 3,
   "id": "61174685-477e-4d5e-ae61-36a4745d6468",
   "metadata": {},
   "outputs": [
    {
     "data": {
      "text/plain": [
       "array([ 1,  2,  3,  4,  5,  6,  7,  8,  9, 10])"
      ]
     },
     "execution_count": 3,
     "metadata": {},
     "output_type": "execute_result"
    }
   ],
   "source": [
    "#1\n",
    "vector = np.arange(1,11)\n",
    "vector"
   ]
  },
  {
   "cell_type": "code",
   "execution_count": 5,
   "id": "aa12e44e-1ffe-4d94-a3a3-1856eb78b623",
   "metadata": {},
   "outputs": [
    {
     "data": {
      "text/plain": [
       "array([[0, 0, 0],\n",
       "       [0, 0, 0],\n",
       "       [0, 0, 0]])"
      ]
     },
     "execution_count": 5,
     "metadata": {},
     "output_type": "execute_result"
    }
   ],
   "source": [
    "#2\n",
    "matrix = np.zeros((3,3),dtype = int)\n",
    "matrix"
   ]
  },
  {
   "cell_type": "code",
   "execution_count": 9,
   "id": "5faaa150-7245-4bbe-a348-342441a0eb25",
   "metadata": {},
   "outputs": [
    {
     "data": {
      "text/plain": [
       "array([[ 7,  6,  5, 10,  9],\n",
       "       [10,  7,  6,  9,  9],\n",
       "       [10,  6,  4,  6,  9],\n",
       "       [ 4,  8,  2,  6,  6],\n",
       "       [ 3,  7,  9,  7,  4]])"
      ]
     },
     "execution_count": 9,
     "metadata": {},
     "output_type": "execute_result"
    }
   ],
   "source": [
    "#3\n",
    "matrix = np.random.randint(1,11, size=(5,5))\n",
    "matrix"
   ]
  },
  {
   "cell_type": "code",
   "execution_count": 10,
   "id": "d34f2b68-f62b-42bf-9b34-44914c15467c",
   "metadata": {
    "scrolled": true
   },
   "outputs": [
    {
     "data": {
      "text/plain": [
       "array([[0.27386727, 0.45747178, 0.44866095, 0.46524378],\n",
       "       [0.3952525 , 0.40159293, 0.35182736, 0.81535982],\n",
       "       [0.3851422 , 0.84312386, 0.44705041, 0.3513008 ],\n",
       "       [0.60257623, 0.6633185 , 0.34650015, 0.92956676]])"
      ]
     },
     "execution_count": 10,
     "metadata": {},
     "output_type": "execute_result"
    }
   ],
   "source": [
    "#4\n",
    "matrix = np.random.random((4,4))\n",
    "matrix"
   ]
  },
  {
   "cell_type": "code",
   "execution_count": 20,
   "id": "d905233f-cfd4-4c81-8d54-261f0dad195c",
   "metadata": {},
   "outputs": [
    {
     "data": {
      "text/plain": [
       "(array([4, 7, 3, 5, 8]), array([7, 3, 7, 3, 2]))"
      ]
     },
     "execution_count": 20,
     "metadata": {},
     "output_type": "execute_result"
    }
   ],
   "source": [
    "#5\n",
    "vector_a = np.random.randint(1,11, size=5)\n",
    "vector_b = np.random.randint(1,11, size=5)\n",
    "vector_a , vector_b"
   ]
  },
  {
   "cell_type": "code",
   "execution_count": 21,
   "id": "1e499f7f-472d-4b0a-b6f0-97360764dd15",
   "metadata": {},
   "outputs": [
    {
     "data": {
      "text/plain": [
       "array([-3,  4, -4,  2,  6])"
      ]
     },
     "execution_count": 21,
     "metadata": {},
     "output_type": "execute_result"
    }
   ],
   "source": [
    "vector_a - vector_b"
   ]
  },
  {
   "cell_type": "code",
   "execution_count": 22,
   "id": "115eadc2-6961-49f7-9fe3-fe4d5f01be49",
   "metadata": {},
   "outputs": [
    {
     "data": {
      "text/plain": [
       "array([11, 10, 10,  8, 10])"
      ]
     },
     "execution_count": 22,
     "metadata": {},
     "output_type": "execute_result"
    }
   ],
   "source": [
    "vector_a + vector_b"
   ]
  },
  {
   "cell_type": "code",
   "execution_count": 23,
   "id": "787d6f43-5e57-4c73-8388-37f66dcd553f",
   "metadata": {},
   "outputs": [
    {
     "data": {
      "text/plain": [
       "array([28, 21, 21, 15, 16])"
      ]
     },
     "execution_count": 23,
     "metadata": {},
     "output_type": "execute_result"
    }
   ],
   "source": [
    "vector_a * vector_b"
   ]
  },
  {
   "cell_type": "code",
   "execution_count": 24,
   "id": "205cd9da-c365-4f87-b6f7-8044fd43c2b3",
   "metadata": {},
   "outputs": [
    {
     "data": {
      "text/plain": [
       "(array([ 6,  1, 10,  5,  1,  4,  8]), array([ 7, 10, 10,  7,  7,  5,  6]))"
      ]
     },
     "execution_count": 24,
     "metadata": {},
     "output_type": "execute_result"
    }
   ],
   "source": [
    "#6\n",
    "vector_1 = np.random.randint(1,11, size=7)\n",
    "vector_2 = np.random.randint(1,11, size=7)\n",
    "vector_1, vector_2"
   ]
  },
  {
   "cell_type": "code",
   "execution_count": 25,
   "id": "c95fdb4c-3295-426d-a6dc-f0e10593bd85",
   "metadata": {},
   "outputs": [
    {
     "data": {
      "text/plain": [
       "262"
      ]
     },
     "execution_count": 25,
     "metadata": {},
     "output_type": "execute_result"
    }
   ],
   "source": [
    "np.dot(vector_1,vector_2)"
   ]
  },
  {
   "cell_type": "code",
   "execution_count": 26,
   "id": "6cbba5d2-e992-44ce-862e-e468601218df",
   "metadata": {},
   "outputs": [
    {
     "data": {
      "text/plain": [
       "(array([[6, 8],\n",
       "        [3, 8]]),\n",
       " array([[6, 7, 5],\n",
       "        [7, 3, 1]]))"
      ]
     },
     "execution_count": 26,
     "metadata": {},
     "output_type": "execute_result"
    }
   ],
   "source": [
    "#7\n",
    "matrix_a = np.random.randint(1,11, size=(2,2))\n",
    "matrix_b = np.random.randint(1,11, size=(2,3))\n",
    "matrix_a , matrix_b"
   ]
  },
  {
   "cell_type": "code",
   "execution_count": 27,
   "id": "c86ab3eb-4875-4068-bf8e-d86c090430a2",
   "metadata": {},
   "outputs": [
    {
     "data": {
      "text/plain": [
       "array([[92, 66, 38],\n",
       "       [74, 45, 23]])"
      ]
     },
     "execution_count": 27,
     "metadata": {},
     "output_type": "execute_result"
    }
   ],
   "source": [
    "np.dot(matrix_a, matrix_b)"
   ]
  },
  {
   "cell_type": "code",
   "execution_count": 29,
   "id": "a7181ce1-05c3-4ced-af07-ed744f3d444b",
   "metadata": {},
   "outputs": [
    {
     "data": {
      "text/plain": [
       "array([[3, 3, 6],\n",
       "       [1, 9, 2],\n",
       "       [6, 4, 1]])"
      ]
     },
     "execution_count": 29,
     "metadata": {},
     "output_type": "execute_result"
    }
   ],
   "source": [
    "#8\n",
    "matrix = np.random.randint(1,11, size=(3,3))\n",
    "matrix"
   ]
  },
  {
   "cell_type": "code",
   "execution_count": 30,
   "id": "c8699e7b-41b0-45bc-a2d9-fe156eef5b0b",
   "metadata": {},
   "outputs": [
    {
     "data": {
      "text/plain": [
       "array([[-0.00378788, -0.07954545,  0.18181818],\n",
       "       [-0.04166667,  0.125     ,  0.        ],\n",
       "       [ 0.18939394, -0.02272727, -0.09090909]])"
      ]
     },
     "execution_count": 30,
     "metadata": {},
     "output_type": "execute_result"
    }
   ],
   "source": [
    "inv_matrix = np.linalg.inv(matrix)\n",
    "inv_matrix"
   ]
  },
  {
   "cell_type": "code",
   "execution_count": 31,
   "id": "2a1e85b3-6db5-4ec9-ade6-76ce0523ca09",
   "metadata": {},
   "outputs": [
    {
     "data": {
      "text/plain": [
       "array([[0.63510424, 0.35853563, 0.70550973, 0.91501093],\n",
       "       [0.09927911, 0.38922499, 0.82669607, 0.9780618 ],\n",
       "       [0.24816679, 0.09243703, 0.38991088, 0.39818096],\n",
       "       [0.06508799, 0.64393761, 0.99543222, 0.2563396 ]])"
      ]
     },
     "execution_count": 31,
     "metadata": {},
     "output_type": "execute_result"
    }
   ],
   "source": [
    "#9\n",
    "matrix = np.random.random((4,4))\n",
    "matrix"
   ]
  },
  {
   "cell_type": "code",
   "execution_count": 32,
   "id": "ec083d0b-0d95-4be0-ac4a-7881bc01b4dc",
   "metadata": {},
   "outputs": [
    {
     "data": {
      "text/plain": [
       "array([[0.63510424, 0.09927911, 0.24816679, 0.06508799],\n",
       "       [0.35853563, 0.38922499, 0.09243703, 0.64393761],\n",
       "       [0.70550973, 0.82669607, 0.38991088, 0.99543222],\n",
       "       [0.91501093, 0.9780618 , 0.39818096, 0.2563396 ]])"
      ]
     },
     "execution_count": 32,
     "metadata": {},
     "output_type": "execute_result"
    }
   ],
   "source": [
    "matrix_T = matrix.T\n",
    "matrix_T"
   ]
  },
  {
   "cell_type": "code",
   "execution_count": 33,
   "id": "fd897f84-ae1b-4538-a8c5-cf229a035b25",
   "metadata": {},
   "outputs": [
    {
     "data": {
      "text/plain": [
       "array([ 36, 126,  85])"
      ]
     },
     "execution_count": 33,
     "metadata": {},
     "output_type": "execute_result"
    }
   ],
   "source": [
    "#10\n",
    "matrix = np.random.randint(1,11, size=(3,4))\n",
    "vector = np.random.randint(1,11, size=4)\n",
    "np.dot(matrix, vector)"
   ]
  },
  {
   "cell_type": "code",
   "execution_count": 35,
   "id": "3fcc9aef-561a-4902-9b27-4886015d838e",
   "metadata": {},
   "outputs": [
    {
     "data": {
      "text/plain": [
       "(array([[0.52395584, 0.36220824, 0.8669961 ],\n",
       "        [0.95659754, 0.20681451, 0.86993715]]),\n",
       " array([0.82843229, 0.67045136, 0.53133708]))"
      ]
     },
     "execution_count": 35,
     "metadata": {},
     "output_type": "execute_result"
    }
   ],
   "source": [
    "#11\n",
    "matrix = np.random.random((2,3))\n",
    "vector = np.random.random(3)\n",
    "matrix, vector"
   ]
  },
  {
   "cell_type": "code",
   "execution_count": 36,
   "id": "26c24260-8309-4033-b3ab-7f2d1fffd05c",
   "metadata": {},
   "outputs": [
    {
     "data": {
      "text/plain": [
       "array([1.13757211, 1.39336523])"
      ]
     },
     "execution_count": 36,
     "metadata": {},
     "output_type": "execute_result"
    }
   ],
   "source": [
    "np.dot(matrix, vector)"
   ]
  },
  {
   "cell_type": "code",
   "execution_count": 37,
   "id": "940bec8b-7e88-455b-8e96-831cbdeb8251",
   "metadata": {},
   "outputs": [
    {
     "data": {
      "text/plain": [
       "(array([[1, 5],\n",
       "        [1, 5]]),\n",
       " array([[5, 6],\n",
       "        [4, 2]]))"
      ]
     },
     "execution_count": 37,
     "metadata": {},
     "output_type": "execute_result"
    }
   ],
   "source": [
    "#12\n",
    "matrix_a = np.random.randint(1,11, size=(2,2))\n",
    "matrix_b = np.random.randint(1,11, size=(2,2))\n",
    "matrix_a, matrix_b"
   ]
  },
  {
   "cell_type": "code",
   "execution_count": 38,
   "id": "695f77ec-85cc-4a50-8282-10f39ed84d05",
   "metadata": {},
   "outputs": [
    {
     "data": {
      "text/plain": [
       "array([[ 5, 30],\n",
       "       [ 4, 10]])"
      ]
     },
     "execution_count": 38,
     "metadata": {},
     "output_type": "execute_result"
    }
   ],
   "source": [
    "matrix_a * matrix_b"
   ]
  },
  {
   "cell_type": "code",
   "execution_count": 39,
   "id": "59badf9a-213c-48b4-95aa-35d5d56e0a49",
   "metadata": {},
   "outputs": [
    {
     "data": {
      "text/plain": [
       "(array([[7, 4],\n",
       "        [6, 5]]),\n",
       " array([[ 6, 10],\n",
       "        [ 7,  4]]))"
      ]
     },
     "execution_count": 39,
     "metadata": {},
     "output_type": "execute_result"
    }
   ],
   "source": [
    "#13\n",
    "matrix_a = np.random.randint(1,11, size=(2,2))\n",
    "matrix_b = np.random.randint(1,11, size=(2,2))\n",
    "matrix_a, matrix_b"
   ]
  },
  {
   "cell_type": "code",
   "execution_count": 40,
   "id": "997c0706-42be-4e4b-aadf-be6cdeefce76",
   "metadata": {},
   "outputs": [
    {
     "data": {
      "text/plain": [
       "array([[70, 86],\n",
       "       [71, 80]])"
      ]
     },
     "execution_count": 40,
     "metadata": {},
     "output_type": "execute_result"
    }
   ],
   "source": [
    "np.dot(matrix_a,matrix_b)"
   ]
  },
  {
   "cell_type": "code",
   "execution_count": 41,
   "id": "6be26d4b-fa5d-4450-9c7a-272e8f3d65f7",
   "metadata": {},
   "outputs": [
    {
     "data": {
      "text/plain": [
       "(array([[ 27,  69,  66,   7,  13],\n",
       "        [100,  24,  33,  38,  93],\n",
       "        [ 49,  95,  92,  54,  89],\n",
       "        [ 10,  63,  98,  62,  13],\n",
       "        [ 99,  66,  64,  17,  73]]),\n",
       " 1414)"
      ]
     },
     "execution_count": 41,
     "metadata": {},
     "output_type": "execute_result"
    }
   ],
   "source": [
    "#14\n",
    "matrix = np.random.randint(1,101, size=(5,5))\n",
    "matrix, np.sum(matrix)"
   ]
  },
  {
   "cell_type": "code",
   "execution_count": 43,
   "id": "2fe8ad98-c51f-4fa9-b9cb-323ac1ccc61b",
   "metadata": {},
   "outputs": [
    {
     "data": {
      "text/plain": [
       "(array([[ 8,  2,  6,  1],\n",
       "        [ 7,  1,  5,  8],\n",
       "        [10,  3,  2,  2],\n",
       "        [ 7,  2,  9,  7]]),\n",
       " array([[ 4,  5,  7,  8],\n",
       "        [ 6,  6,  4, 10],\n",
       "        [ 2,  7,  6,  4],\n",
       "        [10,  8,  3,  5]]))"
      ]
     },
     "execution_count": 43,
     "metadata": {},
     "output_type": "execute_result"
    }
   ],
   "source": [
    "#15\n",
    "matrix_a = np.random.randint(1,11, size=(4,4))\n",
    "matrix_b = np.random.randint(1,11, size=(4,4))\n",
    "matrix_a, matrix_b"
   ]
  },
  {
   "cell_type": "code",
   "execution_count": 44,
   "id": "9d7c2f17-adb1-4389-8fc7-0ce509fca7fc",
   "metadata": {},
   "outputs": [
    {
     "data": {
      "text/plain": [
       "array([[ 4, -3, -1, -7],\n",
       "       [ 1, -5,  1, -2],\n",
       "       [ 8, -4, -4, -2],\n",
       "       [-3, -6,  6,  2]])"
      ]
     },
     "execution_count": 44,
     "metadata": {},
     "output_type": "execute_result"
    }
   ],
   "source": [
    "matrix_a - matrix_b"
   ]
  },
  {
   "cell_type": "code",
   "execution_count": 46,
   "id": "d3ceb287-ab01-4509-8976-b7918e587b54",
   "metadata": {},
   "outputs": [
    {
     "data": {
      "text/plain": [
       "array([[0.4009832 , 0.70829324, 0.93931003],\n",
       "       [0.2097455 , 0.32600343, 0.58346924],\n",
       "       [0.53200871, 0.59283589, 0.29338253]])"
      ]
     },
     "execution_count": 46,
     "metadata": {},
     "output_type": "execute_result"
    }
   ],
   "source": [
    "#16\n",
    "matrix = np.random.random((3,3))\n",
    "matrix"
   ]
  },
  {
   "cell_type": "code",
   "execution_count": 49,
   "id": "2154973b-640f-4d04-9862-53d5e2bb679e",
   "metadata": {},
   "outputs": [
    {
     "data": {
      "text/plain": [
       "array([2.04858647, 1.11921816, 1.41822712])"
      ]
     },
     "execution_count": 49,
     "metadata": {},
     "output_type": "execute_result"
    }
   ],
   "source": [
    "a = matrix[0][0]+matrix[0][1]+matrix[0][2]\n",
    "b = matrix[1][0]+matrix[1][1]+matrix[1][2]\n",
    "c = matrix[2][0]+matrix[2][1]+matrix[2][2]\n",
    "vector = np.array([a,b,c])\n",
    "vector"
   ]
  },
  {
   "cell_type": "code",
   "execution_count": 52,
   "id": "43c3119c-00d7-46d0-9d4c-5d093292c866",
   "metadata": {},
   "outputs": [
    {
     "data": {
      "text/plain": [
       "(array([[ 2,  3,  5,  3],\n",
       "        [ 7,  7,  7,  5],\n",
       "        [ 3,  6,  4, 10]]),\n",
       " array([[  4,   9,  25,   9],\n",
       "        [ 49,  49,  49,  25],\n",
       "        [  9,  36,  16, 100]]))"
      ]
     },
     "execution_count": 52,
     "metadata": {},
     "output_type": "execute_result"
    }
   ],
   "source": [
    "#17\n",
    "matrix = np.random.randint(1,11, size=(3,4))\n",
    "matrix , matrix**2"
   ]
  },
  {
   "cell_type": "code",
   "execution_count": 53,
   "id": "7a981961-9783-461c-b5d4-cb40a25b7818",
   "metadata": {},
   "outputs": [
    {
     "data": {
      "text/plain": [
       "array([48, 32, 14, 17])"
      ]
     },
     "execution_count": 53,
     "metadata": {},
     "output_type": "execute_result"
    }
   ],
   "source": [
    "#18\n",
    "vector = np.random.randint(1,51, size=4)\n",
    "vector"
   ]
  },
  {
   "cell_type": "code",
   "execution_count": 54,
   "id": "d90a9ef9-6400-497a-ad17-4ed755c92e6d",
   "metadata": {},
   "outputs": [
    {
     "data": {
      "text/plain": [
       "array([6.92820323, 5.65685425, 3.74165739, 4.12310563])"
      ]
     },
     "execution_count": 54,
     "metadata": {},
     "output_type": "execute_result"
    }
   ],
   "source": [
    "vector_x = vector**0.5\n",
    "vector_x"
   ]
  }
 ],
 "metadata": {
  "kernelspec": {
   "display_name": "Python 3 (ipykernel)",
   "language": "python",
   "name": "python3"
  },
  "language_info": {
   "codemirror_mode": {
    "name": "ipython",
    "version": 3
   },
   "file_extension": ".py",
   "mimetype": "text/x-python",
   "name": "python",
   "nbconvert_exporter": "python",
   "pygments_lexer": "ipython3",
   "version": "3.11.2"
  }
 },
 "nbformat": 4,
 "nbformat_minor": 5
}
